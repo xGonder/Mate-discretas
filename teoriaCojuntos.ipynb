{
 "cells": [
  {
   "cell_type": "markdown",
   "id": "0f1766b1",
   "metadata": {},
   "source": [
    "# Teoria de cojuntos\n",
    "De acuerdo con wikipedia, es una rama de la lógica matemática que estudia las propiedades y relaciones de los conjuntos:\n",
    "colecciones abstractas de objetos, consideradas como objetos en sí mismas. Los conjuntos y sus operaciones más elementales \n",
    "son una herramienta básica que permite formular de cualquier otra teoría matemática.\n"
   ]
  },
  {
   "cell_type": "markdown",
   "id": "4c52d1d4",
   "metadata": {},
   "source": [
    "## Creación de conjuntos\n",
    "\n",
    "en python, puedes crear un conjunto utilizando llaves {} o la función set()"
   ]
  },
  {
   "cell_type": "code",
   "execution_count": null,
   "id": "9977407a",
   "metadata": {},
   "outputs": [],
   "source": []
  },
  {
   "cell_type": "code",
   "execution_count": 1,
   "id": "67d03011",
   "metadata": {},
   "outputs": [],
   "source": [
    "A = {1, 2, 3, 4, 5}"
   ]
  },
  {
   "cell_type": "code",
   "execution_count": 2,
   "id": "b366ad3c",
   "metadata": {},
   "outputs": [],
   "source": [
    "B = {3, 4, 5, 6, 7}"
   ]
  },
  {
   "cell_type": "code",
   "execution_count": 3,
   "id": "95604208",
   "metadata": {},
   "outputs": [],
   "source": [
    "c = set([3, 6, 9, 12, 15])"
   ]
  },
  {
   "cell_type": "markdown",
   "id": "0f638bc9",
   "metadata": {},
   "source": [
    "## Listas vs Conjuntos"
   ]
  },
  {
   "cell_type": "code",
   "execution_count": 4,
   "id": "82713198",
   "metadata": {},
   "outputs": [],
   "source": [
    "lista = [1, 2, 3, 4, 5, 1, 2, 3, 4, 5]"
   ]
  },
  {
   "cell_type": "code",
   "execution_count": 5,
   "id": "c0056832",
   "metadata": {},
   "outputs": [
    {
     "data": {
      "text/plain": [
       "[1, 2, 3, 4, 5, 1, 2, 3, 4, 5]"
      ]
     },
     "execution_count": 5,
     "metadata": {},
     "output_type": "execute_result"
    }
   ],
   "source": [
    "lista"
   ]
  },
  {
   "cell_type": "code",
   "execution_count": 6,
   "id": "63792679",
   "metadata": {},
   "outputs": [],
   "source": [
    "conjunto = set(lista)"
   ]
  },
  {
   "cell_type": "code",
   "execution_count": 7,
   "id": "631c374e",
   "metadata": {},
   "outputs": [
    {
     "data": {
      "text/plain": [
       "{1, 2, 3, 4, 5}"
      ]
     },
     "execution_count": 7,
     "metadata": {},
     "output_type": "execute_result"
    }
   ],
   "source": [
    "conjunto"
   ]
  },
  {
   "cell_type": "markdown",
   "id": "4aff10c7",
   "metadata": {},
   "source": [
    "# Operaciones\n",
    "\n",
    "Python proporciona operadores y métodos para realizar operaciones básicas de conjuntos como unión, intersección, diferencia y diferencia simétrica."
   ]
  },
  {
   "cell_type": "markdown",
   "id": "80d1939f",
   "metadata": {},
   "source": [
    "## Unión\n",
    "La unión de dos (o más) conjuntos es una operación que resulta en otro conjunto, cuyos elementos son los mismos de los conjuntos iniciales.\n",
    "Dados dos conjuntos A y B, su unión es el conjunto que contiene todos los elementos, que pertenecen por lo menos a uno de los conjuntos A o B:\n",
    "\n",
    "La unión de dos conjuntos A y B es otro conjunto A ∪ B cuyos elementos son todos los elementos de A y/o de B:\n",
    "$$\n",
    "    C = A \\cup B = {x:x \\in A \\quad o \\quad x \\in B}\n",
    "$$\n",
    "\n",
    "En Python, la operación de unión puede realizarse utiliuzando el operador | o el método union()"
   ]
  },
  {
   "cell_type": "code",
   "execution_count": 8,
   "id": "e2bb5c69",
   "metadata": {},
   "outputs": [
    {
     "data": {
      "text/plain": [
       "{1, 2, 3, 4, 5, 6, 7}"
      ]
     },
     "execution_count": 8,
     "metadata": {},
     "output_type": "execute_result"
    }
   ],
   "source": [
    "A | B"
   ]
  },
  {
   "cell_type": "code",
   "execution_count": 9,
   "id": "bef71bbf",
   "metadata": {},
   "outputs": [
    {
     "data": {
      "text/plain": [
       "{1, 2, 3, 4, 5, 6, 7}"
      ]
     },
     "execution_count": 9,
     "metadata": {},
     "output_type": "execute_result"
    }
   ],
   "source": [
    "A.union(B)"
   ]
  },
  {
   "cell_type": "markdown",
   "id": "bd05af24",
   "metadata": {},
   "source": [
    "## Intersección"
   ]
  },
  {
   "cell_type": "markdown",
   "id": "5cd7cb9e",
   "metadata": {},
   "source": [
    "La intersección de conjuntos es una operación que devuelve un nuevo conjunto que contiene únicamente los elementos comunes a dos o más conjuntos. Es decir, se seleccionan aquellos elementos que están presentes en todos los conjuntos involucrados en la operación de intersección.\n",
    "$$\n",
    "    A \\cap B = { x|x\\quad A\\wedge x\\quad B}\n",
    "$$\n",
    "\n",
    "En Python, la operación de intersección puede realizarse utilizando el operador & o el método intersetion()"
   ]
  },
  {
   "cell_type": "code",
   "execution_count": 10,
   "id": "cd1857ba",
   "metadata": {},
   "outputs": [],
   "source": [
    "interseccion = A & B"
   ]
  },
  {
   "cell_type": "code",
   "execution_count": 11,
   "id": "f12a0c0c",
   "metadata": {},
   "outputs": [
    {
     "data": {
      "text/plain": [
       "{3, 4, 5}"
      ]
     },
     "execution_count": 11,
     "metadata": {},
     "output_type": "execute_result"
    }
   ],
   "source": [
    "interseccion"
   ]
  },
  {
   "cell_type": "code",
   "execution_count": 12,
   "id": "aa5b042e",
   "metadata": {},
   "outputs": [
    {
     "data": {
      "text/plain": [
       "{3, 4, 5}"
      ]
     },
     "execution_count": 12,
     "metadata": {},
     "output_type": "execute_result"
    }
   ],
   "source": [
    "A.intersection(B)"
   ]
  },
  {
   "cell_type": "markdown",
   "id": "9e97f356",
   "metadata": {},
   "source": [
    "## Diferencia"
   ]
  },
  {
   "cell_type": "markdown",
   "id": "1df9173f",
   "metadata": {},
   "source": [
    "Sean A y B dos conjuntos cualesquiera. El conjunto diferencia de A y B, que se representa por A-B, es el conjunto formado por todos los elementos que están en A, pero no están en B.\n",
    "Sean A y B dos conjuntos. La diferencia de conjuntos A-B es:\n",
    "$$\n",
    "    A - B = {x \\in A y x \\notin B}\n",
    "$$\n",
    "En Python, la operación de diferencia puede realizarse utilizando el operador - o el método difference()"
   ]
  },
  {
   "cell_type": "code",
   "execution_count": 13,
   "id": "4cb98419",
   "metadata": {},
   "outputs": [],
   "source": [
    "diferencia = A - B"
   ]
  },
  {
   "cell_type": "code",
   "execution_count": 14,
   "id": "7daeb512",
   "metadata": {},
   "outputs": [
    {
     "data": {
      "text/plain": [
       "{1, 2}"
      ]
     },
     "execution_count": 14,
     "metadata": {},
     "output_type": "execute_result"
    }
   ],
   "source": [
    "diferencia"
   ]
  },
  {
   "cell_type": "code",
   "execution_count": 15,
   "id": "e6d861c6",
   "metadata": {},
   "outputs": [
    {
     "data": {
      "text/plain": [
       "{1, 2}"
      ]
     },
     "execution_count": 15,
     "metadata": {},
     "output_type": "execute_result"
    }
   ],
   "source": [
    "A.difference(B)"
   ]
  },
  {
   "cell_type": "code",
   "execution_count": 16,
   "id": "febc2cf1",
   "metadata": {},
   "outputs": [
    {
     "data": {
      "text/plain": [
       "{6, 7}"
      ]
     },
     "execution_count": 16,
     "metadata": {},
     "output_type": "execute_result"
    }
   ],
   "source": [
    "B.difference(A)"
   ]
  },
  {
   "cell_type": "markdown",
   "id": "fb3e46ad",
   "metadata": {},
   "source": [
    "## Diferencia simétrica"
   ]
  },
  {
   "cell_type": "markdown",
   "id": "ffed0e36",
   "metadata": {},
   "source": [
    "La diferencia simétrica de dos conjuntos, denotada usualmente por AΔB, se refiere a un nuevo conjunto que contiene los elementos que están en A o en B, pero no en ambos simultáneamente. En otras palabras, la diferencia simétrica de\n",
    "A y B incluye todos los elementos que pertenecen a A o a B, pero no a ambos conjuntos al mismo tiempo.\n",
    "\n",
    "Formalmente, si A y B son conjuntos, entonces la diferencia simétrica \n",
    "AΔB se define como:\n",
    "$$\n",
    "    A \\triangle B = (A \\cap B) \\backslash ( A \\cup B)\n",
    "$$\n",
    "\n",
    "En Python, la operación de diferencia simétrica puede realizarse utilizando el operador ^ o el método symmetric_difference()"
   ]
  },
  {
   "cell_type": "code",
   "execution_count": 17,
   "id": "9bfda093",
   "metadata": {},
   "outputs": [],
   "source": [
    "diferenciaSi = A ^ B"
   ]
  },
  {
   "cell_type": "code",
   "execution_count": 18,
   "id": "b5354e86",
   "metadata": {},
   "outputs": [
    {
     "data": {
      "text/plain": [
       "{1, 2, 6, 7}"
      ]
     },
     "execution_count": 18,
     "metadata": {},
     "output_type": "execute_result"
    }
   ],
   "source": [
    "diferenciaSi"
   ]
  },
  {
   "cell_type": "code",
   "execution_count": 19,
   "id": "628c6c95",
   "metadata": {},
   "outputs": [
    {
     "data": {
      "text/plain": [
       "{1, 2, 6, 7}"
      ]
     },
     "execution_count": 19,
     "metadata": {},
     "output_type": "execute_result"
    }
   ],
   "source": [
    "A.symmetric_difference(B)"
   ]
  },
  {
   "cell_type": "code",
   "execution_count": 20,
   "id": "00ff4b49",
   "metadata": {},
   "outputs": [
    {
     "data": {
      "text/plain": [
       "{1, 2, 6, 7}"
      ]
     },
     "execution_count": 20,
     "metadata": {},
     "output_type": "execute_result"
    }
   ],
   "source": [
    "B.symmetric_difference(A)"
   ]
  },
  {
   "cell_type": "code",
   "execution_count": 22,
   "id": "dd853c5b",
   "metadata": {},
   "outputs": [
    {
     "name": "stdout",
     "output_type": "stream",
     "text": [
      "Defaulting to user installation because normal site-packages is not writeable\n",
      "Requirement already satisfied: matplotlib_venn in c:\\users\\zs23017344\\appdata\\roaming\\python\\python310\\site-packages (0.11.10)\n",
      "Requirement already satisfied: numpy in c:\\programdata\\anaconda3\\lib\\site-packages (from matplotlib_venn) (1.23.5)\n",
      "Requirement already satisfied: scipy in c:\\programdata\\anaconda3\\lib\\site-packages (from matplotlib_venn) (1.10.0)\n",
      "Requirement already satisfied: matplotlib in c:\\programdata\\anaconda3\\lib\\site-packages (from matplotlib_venn) (3.7.0)\n",
      "Requirement already satisfied: cycler>=0.10 in c:\\programdata\\anaconda3\\lib\\site-packages (from matplotlib->matplotlib_venn) (0.11.0)\n",
      "Requirement already satisfied: pillow>=6.2.0 in c:\\programdata\\anaconda3\\lib\\site-packages (from matplotlib->matplotlib_venn) (9.4.0)\n",
      "Requirement already satisfied: pyparsing>=2.3.1 in c:\\programdata\\anaconda3\\lib\\site-packages (from matplotlib->matplotlib_venn) (3.0.9)\n",
      "Requirement already satisfied: contourpy>=1.0.1 in c:\\programdata\\anaconda3\\lib\\site-packages (from matplotlib->matplotlib_venn) (1.0.5)\n",
      "Requirement already satisfied: packaging>=20.0 in c:\\programdata\\anaconda3\\lib\\site-packages (from matplotlib->matplotlib_venn) (22.0)\n",
      "Requirement already satisfied: fonttools>=4.22.0 in c:\\programdata\\anaconda3\\lib\\site-packages (from matplotlib->matplotlib_venn) (4.25.0)\n",
      "Requirement already satisfied: kiwisolver>=1.0.1 in c:\\programdata\\anaconda3\\lib\\site-packages (from matplotlib->matplotlib_venn) (1.4.4)\n",
      "Requirement already satisfied: python-dateutil>=2.7 in c:\\programdata\\anaconda3\\lib\\site-packages (from matplotlib->matplotlib_venn) (2.8.2)\n",
      "Requirement already satisfied: six>=1.5 in c:\\programdata\\anaconda3\\lib\\site-packages (from python-dateutil>=2.7->matplotlib->matplotlib_venn) (1.16.0)\n",
      "Note: you may need to restart the kernel to use updated packages.\n"
     ]
    }
   ],
   "source": [
    "pip install matplotlib_venn"
   ]
  },
  {
   "cell_type": "code",
   "execution_count": null,
   "id": "ae007e64",
   "metadata": {},
   "outputs": [],
   "source": [
    "from matplotlib import pyplot as plt\n",
    "from matplotlib_venn"
   ]
  }
 ],
 "metadata": {
  "kernelspec": {
   "display_name": "Python 3 (ipykernel)",
   "language": "python",
   "name": "python3"
  },
  "language_info": {
   "codemirror_mode": {
    "name": "ipython",
    "version": 3
   },
   "file_extension": ".py",
   "mimetype": "text/x-python",
   "name": "python",
   "nbconvert_exporter": "python",
   "pygments_lexer": "ipython3",
   "version": "3.10.9"
  }
 },
 "nbformat": 4,
 "nbformat_minor": 5
}
